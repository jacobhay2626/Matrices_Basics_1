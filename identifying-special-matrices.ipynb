{
 "cells": [
  {
   "cell_type": "markdown",
   "id": "9e07dc21",
   "metadata": {
    "papermill": {
     "duration": 0.003373,
     "end_time": "2024-05-27T13:46:11.904399",
     "exception": false,
     "start_time": "2024-05-27T13:46:11.901026",
     "status": "completed"
    },
    "tags": []
   },
   "source": [
    "# Matrices Basics\n",
    "\n",
    "\n"
   ]
  },
  {
   "cell_type": "markdown",
   "id": "de5f300d",
   "metadata": {
    "papermill": {
     "duration": 0.002748,
     "end_time": "2024-05-27T13:46:11.910634",
     "exception": false,
     "start_time": "2024-05-27T13:46:11.907886",
     "status": "completed"
    },
    "tags": []
   },
   "source": [
    "I am going to write a function that will test if a 4x4 matrix is singular i.e. to determine if an inverse exists. "
   ]
  },
  {
   "cell_type": "code",
   "execution_count": 1,
   "id": "8c85fd6d",
   "metadata": {
    "execution": {
     "iopub.execute_input": "2024-05-27T13:46:11.918513Z",
     "iopub.status.busy": "2024-05-27T13:46:11.918110Z",
     "iopub.status.idle": "2024-05-27T13:46:11.942213Z",
     "shell.execute_reply": "2024-05-27T13:46:11.940854Z"
    },
    "papermill": {
     "duration": 0.031904,
     "end_time": "2024-05-27T13:46:11.945466",
     "exception": false,
     "start_time": "2024-05-27T13:46:11.913562",
     "status": "completed"
    },
    "tags": []
   },
   "outputs": [],
   "source": [
    "import numpy as np\n",
    "\n",
    "def isSingular(A) :\n",
    "    \n",
    "    B = np.array(A, dtype=np.float_) \n",
    "    try:\n",
    "        fixRowZero(B)\n",
    "        fixRowOne(B)\n",
    "        fixRowTwo(B)\n",
    "        fixRowThree(B)\n",
    "    except MatrixIsSingular:\n",
    "        return True\n",
    "    return False\n",
    "\n",
    "class MatrixIsSingular(Exception): pass\n",
    "\n",
    "\n",
    "# For row zero all we require is the first element to equal 1\n",
    "# I will divide the row by the value of A[0,0]\n",
    "# This should give an error if A[0,0] equals 0, so will test for that first, \n",
    "# and if this is true, i will add one of the lower rows to the first one before the division\n",
    "# Will repeat the test going down each lower row until we can do the division\n",
    "\n",
    "def fixRowZero(A): \n",
    "    if A[0,0] == 0 :\n",
    "        A[0] = A[0] + A[1]\n",
    "    if A[0,0] == 0 : \n",
    "        A[0] = A[0] + A[2]\n",
    "    if A[0,0] == 0 : \n",
    "        A[0] = A[0] + A[3]\n",
    "    if A[0,0] == 0 : \n",
    "        raise MatrixIsSingular()\n",
    "    A[0] = A[0] / A[0,0]\n",
    "    \n",
    "    return A\n",
    "\n",
    "# Need to set the sub-diagonal elements to zero\n",
    "# Then want the diagonal elements to equal 1 (A[1,1])\n",
    "# Divide the row by the value of A[1,1]\n",
    "# Need to test if this is zero\n",
    "# If it is, add a lower row and repeat setting the sub-diagonal elements to zero\n",
    "\n",
    "def fixRowOne(A) :\n",
    "    A[1] = A[1] - A[1,0] * A[0]\n",
    "    if A[1,1] == 0 :\n",
    "        A[1] = A[1] + A[2]\n",
    "        A[1] = A[1] - A[1,0] * A[0]\n",
    "    if A[1,1] == 0 :\n",
    "        A[1] = A[1] + A[3]\n",
    "        A[1] = A[1] - A[1,0] * A[0]\n",
    "    if A[1,1] == 0 :\n",
    "        raise MatrixIsSingular()\n",
    "    A[1] = A[1] / A[1,1]\n",
    "    return A\n",
    "\n",
    "# Need A[2,2] to be 1 (Point A)\n",
    "# Need A[2,0] and A[2,1] to be zero (Point B)\n",
    "\n",
    "def fixRowTwo(A) : \n",
    "    \n",
    "    # Point B\n",
    "    A[2] = A[2] - A[2,0] * A[0]\n",
    "    A[2] = A[2] - A[2,1] * A[1]\n",
    "    \n",
    "    #Point A\n",
    "    # Testing that the diagonal element is NOT zero \n",
    "    if A[2,2] ==0 :\n",
    "        # Add a lower row to row 2\n",
    "        A[2] = A[2] + A[3]\n",
    "        A[2] = A[2] - A[2,0] * A[0]\n",
    "        \n",
    "        A[2] = A[2] - A[2,1] * A[1]\n",
    "        \n",
    "    if A[2,2] == 0:\n",
    "        raise MatrixIsSingular()\n",
    "    \n",
    "    A[2] = A[2] / A[2,2]\n",
    "    \n",
    "    return A\n",
    "\n",
    "# Need A[3,3] to equal 1\n",
    "# Need A[3,0], A[3,1], and A[3,2] to be zero\n",
    "\n",
    "def fixRowThree(A) :\n",
    "    \n",
    "    A[3] = A[3] - A[3,0] * A[0]\n",
    "    A[3] = A[3] - A[3,1] * A[1]\n",
    "    A[3] = A[3] - A[3,2] * A[2]\n",
    "    \n",
    "    if A[3,3] == 0 :\n",
    "        raise MatrixIsSingular()\n",
    "    \n",
    "    A[3] = A[3] / A[3,3]\n",
    "    \n",
    "    return A\n",
    "     "
   ]
  },
  {
   "cell_type": "markdown",
   "id": "e2ff3a2a",
   "metadata": {
    "papermill": {
     "duration": 0.002697,
     "end_time": "2024-05-27T13:46:11.951508",
     "exception": false,
     "start_time": "2024-05-27T13:46:11.948811",
     "status": "completed"
    },
    "tags": []
   },
   "source": [
    "### Testing the code"
   ]
  },
  {
   "cell_type": "code",
   "execution_count": 2,
   "id": "6a9ed918",
   "metadata": {
    "execution": {
     "iopub.execute_input": "2024-05-27T13:46:11.960058Z",
     "iopub.status.busy": "2024-05-27T13:46:11.959099Z",
     "iopub.status.idle": "2024-05-27T13:46:11.968820Z",
     "shell.execute_reply": "2024-05-27T13:46:11.967658Z"
    },
    "papermill": {
     "duration": 0.017617,
     "end_time": "2024-05-27T13:46:11.971911",
     "exception": false,
     "start_time": "2024-05-27T13:46:11.954294",
     "status": "completed"
    },
    "tags": []
   },
   "outputs": [
    {
     "data": {
      "text/plain": [
       "True"
      ]
     },
     "execution_count": 2,
     "metadata": {},
     "output_type": "execute_result"
    }
   ],
   "source": [
    "A = np.array([\n",
    "        [2, 0, 0, 0],\n",
    "        [0, 3, 0, 0],\n",
    "        [0, 0, 4, 4],\n",
    "        [0, 0, 5, 5]\n",
    "    ], dtype=np.float_)\n",
    "isSingular(A)"
   ]
  },
  {
   "cell_type": "code",
   "execution_count": 3,
   "id": "6a71be4c",
   "metadata": {
    "execution": {
     "iopub.execute_input": "2024-05-27T13:46:11.980119Z",
     "iopub.status.busy": "2024-05-27T13:46:11.979770Z",
     "iopub.status.idle": "2024-05-27T13:46:11.990419Z",
     "shell.execute_reply": "2024-05-27T13:46:11.989400Z"
    },
    "papermill": {
     "duration": 0.017516,
     "end_time": "2024-05-27T13:46:11.992826",
     "exception": false,
     "start_time": "2024-05-27T13:46:11.975310",
     "status": "completed"
    },
    "tags": []
   },
   "outputs": [
    {
     "data": {
      "text/plain": [
       "array([[ 1. ,  7.5, -2.5,  3.5],\n",
       "       [ 2. ,  8. ,  0. ,  4. ],\n",
       "       [ 3. , 12. ,  0. ,  5. ],\n",
       "       [ 1. ,  3. ,  1. ,  3. ]])"
      ]
     },
     "execution_count": 3,
     "metadata": {},
     "output_type": "execute_result"
    }
   ],
   "source": [
    "A = np.array([\n",
    "        [0, 7, -5, 3],\n",
    "        [2, 8, 0, 4],\n",
    "        [3, 12, 0, 5],\n",
    "        [1, 3, 1, 3]\n",
    "    ], dtype=np.float_)\n",
    "fixRowZero(A)"
   ]
  },
  {
   "cell_type": "code",
   "execution_count": 4,
   "id": "0efa97d0",
   "metadata": {
    "execution": {
     "iopub.execute_input": "2024-05-27T13:46:12.001679Z",
     "iopub.status.busy": "2024-05-27T13:46:12.001223Z",
     "iopub.status.idle": "2024-05-27T13:46:12.008693Z",
     "shell.execute_reply": "2024-05-27T13:46:12.007618Z"
    },
    "papermill": {
     "duration": 0.015089,
     "end_time": "2024-05-27T13:46:12.011503",
     "exception": false,
     "start_time": "2024-05-27T13:46:11.996414",
     "status": "completed"
    },
    "tags": []
   },
   "outputs": [
    {
     "data": {
      "text/plain": [
       "array([[ 1.        ,  7.5       , -2.5       ,  3.5       ],\n",
       "       [-0.        ,  1.        , -0.71428571,  0.42857143],\n",
       "       [ 3.        , 12.        ,  0.        ,  5.        ],\n",
       "       [ 1.        ,  3.        ,  1.        ,  3.        ]])"
      ]
     },
     "execution_count": 4,
     "metadata": {},
     "output_type": "execute_result"
    }
   ],
   "source": [
    "fixRowOne(A)"
   ]
  },
  {
   "cell_type": "code",
   "execution_count": 5,
   "id": "dff9fa03",
   "metadata": {
    "execution": {
     "iopub.execute_input": "2024-05-27T13:46:12.020399Z",
     "iopub.status.busy": "2024-05-27T13:46:12.020041Z",
     "iopub.status.idle": "2024-05-27T13:46:12.028713Z",
     "shell.execute_reply": "2024-05-27T13:46:12.027554Z"
    },
    "papermill": {
     "duration": 0.015886,
     "end_time": "2024-05-27T13:46:12.031105",
     "exception": false,
     "start_time": "2024-05-27T13:46:12.015219",
     "status": "completed"
    },
    "tags": []
   },
   "outputs": [
    {
     "data": {
      "text/plain": [
       "array([[ 1.        ,  7.5       , -2.5       ,  3.5       ],\n",
       "       [-0.        ,  1.        , -0.71428571,  0.42857143],\n",
       "       [ 0.        ,  0.        ,  1.        ,  1.5       ],\n",
       "       [ 1.        ,  3.        ,  1.        ,  3.        ]])"
      ]
     },
     "execution_count": 5,
     "metadata": {},
     "output_type": "execute_result"
    }
   ],
   "source": [
    "fixRowTwo(A)"
   ]
  },
  {
   "cell_type": "code",
   "execution_count": 6,
   "id": "76a3c624",
   "metadata": {
    "execution": {
     "iopub.execute_input": "2024-05-27T13:46:12.041913Z",
     "iopub.status.busy": "2024-05-27T13:46:12.040713Z",
     "iopub.status.idle": "2024-05-27T13:46:12.049638Z",
     "shell.execute_reply": "2024-05-27T13:46:12.048397Z"
    },
    "papermill": {
     "duration": 0.017294,
     "end_time": "2024-05-27T13:46:12.052309",
     "exception": false,
     "start_time": "2024-05-27T13:46:12.035015",
     "status": "completed"
    },
    "tags": []
   },
   "outputs": [
    {
     "data": {
      "text/plain": [
       "array([[ 1.        ,  7.5       , -2.5       ,  3.5       ],\n",
       "       [-0.        ,  1.        , -0.71428571,  0.42857143],\n",
       "       [ 0.        ,  0.        ,  1.        ,  1.5       ],\n",
       "       [ 0.        ,  0.        ,  0.        ,  1.        ]])"
      ]
     },
     "execution_count": 6,
     "metadata": {},
     "output_type": "execute_result"
    }
   ],
   "source": [
    "fixRowThree(A)"
   ]
  }
 ],
 "metadata": {
  "kaggle": {
   "accelerator": "none",
   "dataSources": [],
   "dockerImageVersionId": 30698,
   "isGpuEnabled": false,
   "isInternetEnabled": true,
   "language": "python",
   "sourceType": "notebook"
  },
  "kernelspec": {
   "display_name": "Python 3",
   "language": "python",
   "name": "python3"
  },
  "language_info": {
   "codemirror_mode": {
    "name": "ipython",
    "version": 3
   },
   "file_extension": ".py",
   "mimetype": "text/x-python",
   "name": "python",
   "nbconvert_exporter": "python",
   "pygments_lexer": "ipython3",
   "version": "3.10.13"
  },
  "papermill": {
   "default_parameters": {},
   "duration": 3.367457,
   "end_time": "2024-05-27T13:46:12.480316",
   "environment_variables": {},
   "exception": null,
   "input_path": "__notebook__.ipynb",
   "output_path": "__notebook__.ipynb",
   "parameters": {},
   "start_time": "2024-05-27T13:46:09.112859",
   "version": "2.5.0"
  }
 },
 "nbformat": 4,
 "nbformat_minor": 5
}
